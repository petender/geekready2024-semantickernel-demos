{
 "cells": [
  {
   "cell_type": "markdown",
   "metadata": {},
   "source": [
    "# ✈️ A (travel-themed) journey of Semantic Kernel for .NET Developers \n",
    "`Created By: Peter De Tender - petender@microsoft.com`\n",
    "\n",
    "Sample Notebook, which demonstrates different Semantic Kernel scenarios:\n",
    "- Prompts\n",
    "- Plugins\n",
    "- Functions\n",
    "- Personas\n",
    "\n",
    "The choice for using a Jupiter Notebook for my Semantic Kernel demos, is thanks to the [Polyglot Notebooks for VS Code](https://marketplace.visualstudio.com/items?itemName=ms-dotnettools.dotnet-interactive-vscode?) integration, allowing to run .NET code straight from within the Notebook, instead of running the actual code in the Terminal. This gives a smoother demo experience. (Based on the same approach used by John Maeda in the [Introducing Semantic Kernel Course on LinkedInLearning](https://www.linkedin.com/learning/introducing-semantic-kernel-building-ai-based-apps/introducing-semantic-kernel?u=3322))"
   ]
  },
  {
   "cell_type": "markdown",
   "metadata": {},
   "source": [
    "---\n",
    "\n",
    "### 0. Prerequisites\n",
    "\n",
    "\n",
    "This `Polyglot` notebook needs to be run from VS Code with the following pre-requisites:\n",
    "\n",
    "Software to be installed on your computer:\n",
    "\n",
    "* ✔️ [Visual Studio Code](https://code.visualstudio.com/Download)\n",
    "* ✔️ The latest [.Net 8.0 SDK](https://dotnet.microsoft.com/en-us/download) \n",
    "* ✔️ [Polyglot Notebooks for VS Code extension](https://marketplace.visualstudio.com/items?itemName=ms-dotnettools.dotnet-interactive-vscode?)\n",
    "\n",
    "Next, you need to have Azure OpenAI Service and a set of models deployed in your Azure subscription: \n",
    "\n",
    "* ✔️ [Azure OpenAI Service](https://learn.microsoft.com/en-us/azure/cognitive-services/openai/quickstart?)\n",
    "* ✔️ [Azure OpenAI Models](https://learn.microsoft.com/en-us/azure/cognitive-services/openai/concepts/models?)\n",
    "\n",
    "**Note:** 5k TPM (tokens per minute) would be enough for most of the demos. No need to max out the tokens quota  in your Azure subscription.\n",
    "\n",
    "(I personally like to use the model name as the deployment name, for ease of consistency in namings, as well as to avoid confusion in model name and deployment name. These are sometimes mixed up in sample code and documentation.)\n",
    "\n",
    "    * ✔️  `gpt-4-default`- GPT-4o\n",
    "    * ✔️ `dall-e-3` - DALL-E-3\n",
    "    * ✔️ `text-embedding-ada-002` - text-embedding-ada-002\n",
    "    * ✔️ `text-davinci-002` - text-davinci-002\n",
    "    * ✔️ `gpt-35-turbo-16k` - gpt-35-turbo-16k\n",
    "\n",
    "**Note:** while we won't use all of these in our demos, those are typically the different models I deploy for my AI-inspired/influenced applications. Once you start using GenAI in your app, it's tempting to start using all its capabilities!\n",
    "\n",
    "🔑 You will use the keys and endpoint parameters during the initialization of this Notebook. You will get prompted for the different parameters. The necessary settings will be stored in a new file settings.json. **Make sure you reset or delete this file (see below in step 2 how to do this), before you check in this code in Source Control**. \n",
    "\n",
    "---"
   ]
  },
  {
   "cell_type": "markdown",
   "metadata": {},
   "source": [
    "### 1. Starting .NET Interactive Mode \n",
    "\n",
    "👋 When you start using this Notebook, by pressing the ▶️ \"play\" button in front of a code section, it will show a prompt on top of the VSCode Menu Bar, asking \"Select kernel for semantickerneldemos\". Make sure you select \n",
    "\n",
    "```\n",
    "**.NET Interactive** 👈\n",
    "```\n",
    "which brings in the interactive mode into the Polyglot Notebooks. Rather nifty feature if you ask me!"
   ]
  },
  {
   "cell_type": "code",
   "execution_count": 1,
   "metadata": {
    "dotnet_interactive": {
     "language": "csharp"
    },
    "polyglot_notebook": {
     "kernelName": "csharp"
    },
    "vscode": {
     "languageId": "polyglot-notebook"
    }
   },
   "outputs": [
    {
     "name": "stdout",
     "output_type": "stream",
     "text": [
      "When you see the line below this one, you'll know the code block executed successfully.\r\n"
     ]
    }
   ],
   "source": [
    "// 👈 you should see a ▶️ (play) button to the left of this \n",
    "// code block. Clicking this button will execute the .NET Code \n",
    "// snippet below and display the output in the cell below.\n",
    "// The easiest example I could come up with is using Console.WriteLine \n",
    "// to output a string to the console.\n",
    "\n",
    "Console.WriteLine(\"When you see the line below this one, you'll know the code block executed successfully.\");"
   ]
  },
  {
   "cell_type": "markdown",
   "metadata": {},
   "source": [
    "### 2. Provide the Azure OpenAI Parameter Settings\n",
    "With the .NET Interactive mode working, we continue the baseline configuration of the Notebook, by providing the necessary Azure OpenAI Parameters (Think of Endpoints, API Keys and Deployment Names).\n",
    "\n",
    "Read the Output below the code section for any successful messages or failures before continuing to step 3."
   ]
  },
  {
   "cell_type": "code",
   "execution_count": 2,
   "metadata": {
    "dotnet_interactive": {
     "language": "csharp"
    },
    "polyglot_notebook": {
     "kernelName": "csharp"
    },
    "vscode": {
     "languageId": "polyglot-notebook"
    }
   },
   "outputs": [
    {
     "ename": "Error",
     "evalue": "Input request cancelled",
     "output_type": "error",
     "traceback": [
      "Input request cancelled"
     ]
    },
    {
     "ename": "Error",
     "evalue": "System.Exception: Input request cancelled\r\n   at Microsoft.DotNet.Interactive.Kernel.GetInputAsync(String prompt, Boolean isPassword, String typeHint, String valueName) in D:\\a\\_work\\1\\s\\src\\Microsoft.DotNet.Interactive\\Kernel.Static.cs:line 72\r\n   at Microsoft.DotNet.Interactive.Kernel.GetInputAsync(String prompt, String typeHint, String valueName) in D:\\a\\_work\\1\\s\\src\\Microsoft.DotNet.Interactive\\Kernel.Static.cs:line 46\r\n   at Submission#3.Settings.AskAzureEndpoint(Boolean _useAzureOpenAI, String configFile)\r\n   at Submission#4.<<Initialize>>d__0.MoveNext()\r\n--- End of stack trace from previous location ---\r\n   at Microsoft.CodeAnalysis.Scripting.ScriptExecutionState.RunSubmissionsAsync[TResult](ImmutableArray`1 precedingExecutors, Func`2 currentExecutor, StrongBox`1 exceptionHolderOpt, Func`2 catchExceptionOpt, CancellationToken cancellationToken)",
     "output_type": "error",
     "traceback": [
      "System.Exception: Input request cancelled\r\n",
      "   at Microsoft.DotNet.Interactive.Kernel.GetInputAsync(String prompt, Boolean isPassword, String typeHint, String valueName) in D:\\a\\_work\\1\\s\\src\\Microsoft.DotNet.Interactive\\Kernel.Static.cs:line 72\r\n",
      "   at Microsoft.DotNet.Interactive.Kernel.GetInputAsync(String prompt, String typeHint, String valueName) in D:\\a\\_work\\1\\s\\src\\Microsoft.DotNet.Interactive\\Kernel.Static.cs:line 46\r\n",
      "   at Submission#3.Settings.AskAzureEndpoint(Boolean _useAzureOpenAI, String configFile)\r\n",
      "   at Submission#4.<<Initialize>>d__0.MoveNext()\r\n",
      "--- End of stack trace from previous location ---\r\n",
      "   at Microsoft.CodeAnalysis.Scripting.ScriptExecutionState.RunSubmissionsAsync[TResult](ImmutableArray`1 precedingExecutors, Func`2 currentExecutor, StrongBox`1 exceptionHolderOpt, Func`2 catchExceptionOpt, CancellationToken cancellationToken)"
     ]
    }
   ],
   "source": [
    "#!import Settings.cs\n",
    "\n",
    "bool useAzureOpenAI = true;\n",
    "\n",
    "await Settings.AskAzureEndpoint(useAzureOpenAI);\n",
    "await Settings.AskModel(useAzureOpenAI);\n",
    "await Settings.AskApiKey(useAzureOpenAI);\n",
    "\n",
    "// Uncomment this if you're using OpenAI and need to set the Org Id\n",
    "// await Settings.AskOrg(useAzureOpenAI);"
   ]
  },
  {
   "cell_type": "markdown",
   "metadata": {},
   "source": [
    "`In case you want to reset your settings so that you can update your API keys again, uncomment the below \n",
    "//Settings.Reset(); line and run the code block.`"
   ]
  },
  {
   "cell_type": "code",
   "execution_count": null,
   "metadata": {
    "dotnet_interactive": {
     "language": "csharp"
    },
    "polyglot_notebook": {
     "kernelName": "csharp"
    },
    "vscode": {
     "languageId": "polyglot-notebook"
    }
   },
   "outputs": [],
   "source": [
    "#!import Settings.cs\n",
    "\n",
    "// Uncomment this line to reset your settings and delete the settings.json file from disk.\n",
    "// Settings.Reset();"
   ]
  },
  {
   "cell_type": "markdown",
   "metadata": {},
   "source": [
    "### 3. Initiate the .NET Interactive Kernel by loading the Semantic Kernel package into a client.\n",
    "\n",
    "This will create a client so you don't have to initialise it again. \n",
    "\n",
    "Think of Microsoft’s [Semantic Kernel](https://learn.microsoft.com/en-us/semantic-kernel/overview/) as collection of stand-alone blocks (some would call it Functions??). Each block acts as a different AI service, like recognizing language, translating, providing answers to your prompt questions (GPT-model driven), or creating images with Dall-E.\n",
    "\n",
    "Semantic Kernel is a lightweight, open-source development kit that lets you easily build AI agents and integrate the latest AI models into your C#, Python, or Java codebase. It serves as an efficient middleware that enables rapid delivery of enterprise-grade solutions.\n",
    "\n",
    "Semantic Kernel combines prompts with existing APIs called [Plugins](https://learn.microsoft.com/en-us/semantic-kernel/concepts/plugins/) to perform actions. By describing your existing code to AI models, they’ll be called to address requests. When a request is made the model calls a function, and Semantic Kernel is the middleware translating the model's request to a function call and passes the results back to the model.\n",
    "\n",
    "The selected code is a C# file that demonstrates how to configure and create a kernel using the Microsoft.SemanticKernel library. The kernel is a component that provides a framework for executing code and performing various operations.\n",
    "\n",
    "``` \n",
    "what the code is doing: \n",
    "```\n",
    "(description has been partially created by GitHub Copilot AI, isn't that cool...)\n",
    "\n",
    "> The code begins by including two NuGet packages, Microsoft.SemanticKernel and Microsoft.SemanticKernel.Plugins.Core, with specific versions. These packages contain the necessary functionality for working with the SemanticKernel library.\n",
    "\n",
    "> Next, the code imports a file called \"Settings.cs\" using the #!import directive. This file likely contains configuration settings for the AI backend used by the kernel.\n",
    "\n",
    "> The code then includes the necessary namespaces for working with the SemanticKernel library: Microsoft.SemanticKernel and Microsoft.SemanticKernel.Plugins.Core. These namespaces provide access to the classes and methods needed to create and configure the kernel.\n",
    "\n",
    "> After that, the code creates a builder object for the kernel using the Kernel.CreateBuilder() method. The builder is responsible for configuring the kernel and specifying the components it should use.\n",
    "\n",
    "> The code then loads the configuration settings from the \"Settings.cs\" file using the Settings.LoadFromFile() method. This method likely reads the settings from a file and returns them as a tuple containing the values for variables like useAzureOpenAI, model, azureEndpoint, apiKey, and orgId.\n",
    "\n",
    "> Next, the code checks the value of the useAzureOpenAI variable. If it is true, the code adds the Azure OpenAI chat completion component to the kernel using the builder.AddAzureOpenAIChatCompletion() method, passing in the appropriate parameters. If useAzureOpenAI is false, the code adds the regular OpenAI chat completion component using the builder.AddOpenAIChatCompletion() method.\n",
    "\n",
    "> Finally, the code has configured the kernel using the builder and is ready to use it for executing code or performing other operations.\n",
    "\n",
    "> Overall, this code demonstrates how to create and configure a kernel using the Microsoft.SemanticKernel library, allowing you to leverage AI chat completion functionality in your application."
   ]
  },
  {
   "cell_type": "code",
   "execution_count": null,
   "metadata": {
    "dotnet_interactive": {
     "language": "csharp"
    },
    "polyglot_notebook": {
     "kernelName": "csharp"
    },
    "vscode": {
     "languageId": "polyglot-notebook"
    }
   },
   "outputs": [],
   "source": [
    "// Getting the latest package released on 5th May, 2024 - https://www.nuget.org/packages/Microsoft.SemanticKernel/\n",
    "#r \"nuget: Microsoft.SemanticKernel, 1.11.1\"\n",
    "#r \"nuget: Microsoft.SemanticKernel.Plugins.Core, 1.11.1-alpha\"\n",
    "\n",
    "#!import Settings.cs\n",
    "\n",
    "using Microsoft.SemanticKernel;\n",
    "using Microsoft.SemanticKernel.Plugins.Core;\n",
    "using Kernel = Microsoft.SemanticKernel.Kernel;\n",
    "\n",
    "//Create Kernel builder\n",
    "var builder = Kernel.CreateBuilder();\n",
    "\n",
    "// Configure AI backend used by the kernel\n",
    "var (useAzureOpenAI, model, azureEndpoint, apiKey, orgId) = Settings.LoadFromFile();\n",
    "if (useAzureOpenAI)\n",
    "    builder.AddAzureOpenAIChatCompletion(model, azureEndpoint, apiKey);\n",
    "else\n",
    "    builder.AddOpenAIChatCompletion(model, apiKey, orgId);"
   ]
  },
  {
   "cell_type": "markdown",
   "metadata": {},
   "source": [
    "### 3. Semantic Kernel Plugins\n",
    "\n",
    "AI plugins act like a set of instructions or tasks that your application can execute. Think of them as an instructions book (John calls them recipes...) for your application, where each set of instructions (or recipes, or plugin) includes a list of ingredients (or functions) and steps (or triggers and actions) to accomplish a specific task.\n",
    "\n",
    "For instance, when you’re developing a chatbot that needs to answer travel-related questions, you could create a plugin with a function to fetch current travel data from a travel organization API and another function to format that data into a user-friendly message, HTML, table layout and alike.\n",
    "\n",
    "Plugins are the core components of Semantic Kernel and can work seamlessly with plugins in ChatGPT, Bing, and Microsoft 365, as well as other third-party sources. They encapsulate capabilities into single units of functionality that the kernel can run. Plugins can include both native code and requests to AI services via prompts.\n",
    "\n",
    "Plugins are two-fold, allowing you to export them to ChatGPT, Bing or Microsoft 365. Similarly, plugins created for ChatGPT, Bing, and Microsoft 365 can be imported into Semantic Kernel effortlessly.\n",
    "\n",
    "#### **Prompts**\n",
    "\n",
    "Prompts (or Prompt Functions) are the individual steps in a recipe. Each step (or function) tells your app what to do and how to achieve success when running it.\n",
    "\n",
    "For example, continuing on the travel chatbot idea, you might want it to be able to answer questions about the weather so you can plan your vacation trip. One of your prompts might be a step to decide on your preferred vacation location, based on flight cost from fetching an airline's API, followed by a step which collects the expected weather data from a weather API. Another prompt might be a step that combines the results of the flight options, together with the weather results and recommends the ultimate vacation spot.\n",
    "\n",
    "Prompts are used in plugins, which are like the full recipes in your recipe book. Each plugin can contain multiple prompts and each prompt can be triggered by certain events or conditions.\n",
    "\n",
    "#### **Functions** \n",
    "\n",
    "Native Functions in Semantic Kernel are similar to the handy-man or -woman's tools you use when doing construction work. These could be things like a saw, hammer, screwdrivers, drills and alike. They’re the tools that allow you to interact with your materials (data) and transform them in different ways (kitchen remodelling, building a house,...).\n",
    "\n",
    "For example, let’s say you’re building a chatbot and one of your instructions (plugins) is for creating furniture. One of your steps (Prompts) might be to collect different materials (wood, screws, doorhandles,...) together (combine data). While your hands can put everything together, you would also need a tool (Native Function) like a saw (to cut the panels), screwdriver (to screw everything together), etc..\n",
    "\n",
    "So, you could create a Native Function that takes your instructions (data), uses the correct tool (performs an operation on the data) and returns a finished kitchen cupboard (the result of the operation)."
   ]
  },
  {
   "cell_type": "markdown",
   "metadata": {},
   "source": [
    "#### 3.1 Find a country's capital\n",
    "\n",
    "In this example, we demonstrate a way to find the Capital City, based on a country. If no country name gets provided (e.g. you give a city name), the AI response (Chat Completion), will tell you.\n",
    "\n",
    "```\n",
    "what the code is doing:\n",
    "```\n",
    "> The first line *(Kernel kernel ...)* creates an instance of the Kernel by calling the Build method on the builder object. The Kernel is the core component that orchestrates the integration between your application and AI models or services.\n",
    "\n",
    "> In the next line *(var cityPluginsDirectoryPath...)*, you construct the path to the directory where your plugins are stored. It combines the current working directory with the relative path to the “CityPlugin” directory inside the “Plugins” folder. This is where your plugin files are located.\n",
    "\n",
    "> The last line *(var cityPluginFunctions...)* imports the functions defined in the plugins located in the specified directory. The ImportPluginFromPromptDirectory method reads the plugin files and makes their functions available to the Kernel. These functions can then be used to perform specific tasks within your application."
   ]
  },
  {
   "cell_type": "markdown",
   "metadata": {},
   "source": [
    "```\n",
    "import the plugin and all its functions (prompts)\n",
    "```"
   ]
  },
  {
   "cell_type": "code",
   "execution_count": null,
   "metadata": {
    "dotnet_interactive": {
     "language": "csharp"
    },
    "polyglot_notebook": {
     "kernelName": "csharp"
    },
    "vscode": {
     "languageId": "polyglot-notebook"
    }
   },
   "outputs": [],
   "source": [
    "Kernel kernel = builder.Build();\n",
    "\n",
    "// Load the plugin directory\n",
    "var cityPluginsDirectoryPath = Path.Combine(System.IO.Directory.GetCurrentDirectory(), \"Plugins\",\"CityPlugin\");\n",
    "\n",
    "// Load the plugin functons\n",
    "var cityPluginFunctions = kernel.ImportPluginFromPromptDirectory(cityPluginsDirectoryPath);\n"
   ]
  },
  {
   "cell_type": "markdown",
   "metadata": {},
   "source": [
    "```\n",
    "using the function, i.e. get the capital city name based on a given country name\n",
    "```"
   ]
  },
  {
   "cell_type": "code",
   "execution_count": null,
   "metadata": {
    "dotnet_interactive": {
     "language": "csharp"
    },
    "polyglot_notebook": {
     "kernelName": "csharp"
    },
    "vscode": {
     "languageId": "polyglot-notebook"
    }
   },
   "outputs": [],
   "source": [
    "// Set-up the arguments (input)\n",
    "var arguments = new KernelArguments();\n",
    "arguments.Add(\"input\", \"Belgium\");\n",
    "\n",
    "// Invoke the plugin function\n",
    "var result = await kernel.InvokeAsync(cityPluginFunctions[\"GetCity\"], arguments);\n",
    "\n",
    "// Print the result\n",
    "Console.WriteLine(result.GetValue<string>());"
   ]
  },
  {
   "cell_type": "markdown",
   "metadata": {},
   "source": [
    "#### 3.2 Find a country's capital IATA Airline code\n",
    "\n",
    "In this example, we continue on the path of traveling. With the  Capital City found. Let's try and find it's IATA Airport code.\n",
    "\n",
    "```\n",
    "what the code is doing:\n",
    "```\n",
    "> The first line *(Kernel kernel ...)* creates an instance of the Kernel by calling the Build method on the builder object. The Kernel is the core component that orchestrates the integration between your application and AI models or services.\n",
    "\n",
    "> In the next line *(var cityPluginsDirectoryPath...)*, you construct the path to the directory where your plugins are stored. It combines the current working directory with the relative path to the “CityPlugin” directory inside the “Plugins” folder. This is where your plugin files are located.\n",
    "\n",
    "> The last line *(var cityPluginFunctions...)* imports the functions defined in the plugins located in the specified directory. The ImportPluginFromPromptDirectory method reads the plugin files and makes their functions available to the Kernel. These functions can then be used to perform specific tasks within your application."
   ]
  },
  {
   "cell_type": "markdown",
   "metadata": {},
   "source": [
    "```\n",
    "import the plugin and all its functions (prompts)\n",
    "```"
   ]
  },
  {
   "cell_type": "code",
   "execution_count": null,
   "metadata": {
    "dotnet_interactive": {
     "language": "csharp"
    },
    "polyglot_notebook": {
     "kernelName": "csharp"
    },
    "vscode": {
     "languageId": "polyglot-notebook"
    }
   },
   "outputs": [],
   "source": [
    "Kernel kernel = builder.Build();\n",
    "\n",
    "// Load the plugin directory\n",
    "var cityPluginsDirectoryPath = Path.Combine(System.IO.Directory.GetCurrentDirectory(), \"Plugins\",\"CityPlugin\");\n",
    "\n",
    "// Load the plugin functons\n",
    "var cityPluginFunctions = kernel.ImportPluginFromPromptDirectory(cityPluginsDirectoryPath);"
   ]
  },
  {
   "cell_type": "markdown",
   "metadata": {},
   "source": [
    "```\n",
    "using the function, i.e. get the IATA Airport code for a given (capital) city name\n",
    "```"
   ]
  },
  {
   "cell_type": "code",
   "execution_count": null,
   "metadata": {
    "dotnet_interactive": {
     "language": "csharp"
    },
    "polyglot_notebook": {
     "kernelName": "csharp"
    },
    "vscode": {
     "languageId": "polyglot-notebook"
    }
   },
   "outputs": [],
   "source": [
    "// Set-up the arguments (input)\n",
    "var arguments = new KernelArguments();\n",
    "arguments.Add(\"input\", \"Brussels\");\n",
    "\n",
    "// Invoke the plugin function\n",
    "var result = await kernel.InvokeAsync(cityPluginFunctions[\"GetCityIATACode\"], arguments);\n",
    "\n",
    "// Print the result\n",
    "Console.WriteLine(result.GetValue<string>());"
   ]
  },
  {
   "cell_type": "markdown",
   "metadata": {},
   "source": [
    "### 3.3 Inline Functions"
   ]
  },
  {
   "cell_type": "markdown",
   "metadata": {},
   "source": [
    "With the previous examples, the actual Semantic Kernel objects (prompt, configuration), are stored on the local file system with the application source code. In a more real-life example where no (web) server is hosting the application - such as Web Assembly Browser client or a Mobile App - your app won't necessarily have access to these **skprompt.txt** and **config.json** files (unless you integrate them into your app source files... which might not always be the right approach). Therefore, Semantic Kernel has a way to create an **inline function** with the same objective.\n",
    "\n",
    "An *inline function* is like a step in a recipe that you write directly in your program. It’s called *inline* because you define it right where you’re going to use it. I'm almost certain this could be its own C# method. "
   ]
  },
  {
   "cell_type": "code",
   "execution_count": null,
   "metadata": {
    "dotnet_interactive": {
     "language": "csharp"
    },
    "polyglot_notebook": {
     "kernelName": "csharp"
    },
    "vscode": {
     "languageId": "polyglot-notebook"
    }
   },
   "outputs": [],
   "source": [
    "using Microsoft.SemanticKernel.Connectors.OpenAI;\n",
    "\n",
    "using System.Text.Json;\n",
    "\n",
    "kernel = builder.Build();\n",
    "\n",
    "// Define a prompt\n",
    "string skPrompt = @\"Ask an interesting new riddle about Belgium with its answer in a below json format. It should only contain a JSON message and nothing else.\n",
    "\n",
    "                 {\n",
    "                   \"\"Question\"\": \"\"\"\",\n",
    "                   \"\"Answer\"\": \"\"\"\"\n",
    "                 }\n",
    "                 \";\n",
    "\n",
    "// Set up the execution settings (configuration of how prompt function should behave)\n",
    "var executionSettings = new OpenAIPromptExecutionSettings()\n",
    "{\n",
    "    MaxTokens = 200,\n",
    "    Temperature = 0.5\n",
    "};\n",
    "\n",
    "// // Create a new Prompt Template\n",
    "// var promptTemplateConfig = new PromptTemplateConfig(skPrompt);\n",
    "// var promptTemplateFactory = new KernelPromptTemplateFactory();\n",
    "// var promptTemplate = promptTemplateFactory.Create(promptTemplateConfig);\n",
    "\n",
    "// // Render this C# template into a format that's understood by the kernel\n",
    "// var renderedPrompt = await promptTemplate.RenderAsync(kernel);\n",
    "\n",
    "// Create a new prompt function\n",
    "var guessPluginFunction = kernel.CreateFunctionFromPrompt(skPrompt, executionSettings);\n",
    "\n",
    "// Invoke a prompt function and get the result\n",
    "var guessPluginResult = await kernel.InvokeAsync(guessPluginFunction, new());\n",
    "\n",
    "//  Parse the JSON object\n",
    "var riddleObject = JsonDocument.Parse(guessPluginResult.GetValue<string>()).RootElement;\n",
    "\n",
    "// Get a riddle from the JSON object\n",
    "var riddle = riddleObject.GetProperty(\"Question\").GetString();\n",
    "\n",
    "// Get an answer from the JSON object\n",
    "var answer = riddleObject.GetProperty(\"Answer\").GetString();\n",
    "\n",
    "// Print the result\n",
    "Console.WriteLine(riddle + \" \" + answer);"
   ]
  },
  {
   "cell_type": "markdown",
   "metadata": {},
   "source": [
    "### 4. Generating Images with AI (DALL-E-3)\n",
    "\n",
    "Thanks to OpenAI's Dall-E model, it becomes easy to generate cool-looking images, logos, companion designs and artistry creations.\n",
    "\n",
    "Using the well-known .NET Nuget Package from SkiaSharp, we render the image output coming from the Dall-E image generation process. Staying within the travel and country subject, we configure our skprompt as follows: \n",
    "\n",
    "`Select a well-known landmark in a big city within {{$input}}. \n",
    "Describe some facts about the history, tourism and culture of {{$input}}.`\n",
    "\n",
    "This prompt takes the country's name and replace with `$input`. Once replaced, it generates a single-paragraph  description, which will be used as the input prompt for the image creation/generation. \n",
    "\n",
    "```\n",
    "What the code is doing:\n",
    "```\n",
    "\n",
    "> The selected code is a C# program that demonstrates how to use the Microsoft Semantic Kernel library and the AzureOpenAI API to generate an image based on a given input. Let's break down the code step by step:\n",
    "\n",
    "> The code starts by importing the necessary NuGet packages for the Microsoft Semantic Kernel library and its plugins. These packages provide the functionality for text embedding, chat completion, and image generation.\n",
    "\n",
    "> Next, the code imports a file called \"Settings.cs\" using the #!import directive. This file likely contains configuration settings for the OpenAI API, such as the endpoint, API key, and organization ID.\n",
    "\n",
    "> The code then imports the required namespaces for the Microsoft Semantic Kernel library and its plugins.\n",
    "\n",
    "> A kernel builder object is created using the Kernel.CreateBuilder() method. The kernel builder is responsible for configuring the various AI features provided by the Semantic Kernel library.\n",
    "\n",
    "> The code checks a boolean variable useAzureOpenAI to determine whether to use the Azure implementation of the OpenAI API or the default implementation. Depending on the value of useAzureOpenAI, the code adds the appropriate AI services to the kernel builder. These services include text embedding generation, chat completion, and text-to-image generation.\n",
    "\n",
    "> After configuring the AI services, the kernel builder is used to build the final kernel object.\n",
    "\n",
    "> The code retrieves instances of the text-to-image service and the text embedding generation service from the kernel. These instances will be used later to generate the image and extract embeddings from text, respectively.\n",
    "\n",
    "> The code then loads a plugin directory path and imports the plugin functions from that directory using the kernel.ImportPluginFromPromptDirectory() method. This allows the program to extend its functionality with custom plugins.\n",
    "\n",
    "> The code sets up a KernelArguments object and adds an \"input\" argument with the value \"Belgium\". This argument will be passed to the semantic function invoked later.\n",
    "\n",
    "> The code invokes the semantic function named \"GuessWhat\" using the kernel.InvokeAsync() method. The function takes the previously defined arguments and returns a result.\n",
    "\n",
    "> The image description is extracted from the result using the GetValue<string>() method.\n",
    "\n",
    "> The image description is then passed to the dallE.GenerateImageAsync() method, which uses the DALL-E 3 model to generate an image. The method returns the URL of the generated image.\n",
    "\n",
    "> The Utilities.ShowImage() method is called to display the generated image using the SkiaSharp library. The image is resized to 512x512 pixels.\n",
    "\n",
    "> Finally, the two lines of code at the end  print the image description and the URL of the generated image to the console.\n",
    "\n",
    "> Overall, this code demonstrates how to use the Microsoft Semantic Kernel library and the OpenAI API to generate an image based on a given input using text embedding and text-to-image generation services."
   ]
  },
  {
   "cell_type": "code",
   "execution_count": null,
   "metadata": {
    "dotnet_interactive": {
     "language": "csharp"
    },
    "polyglot_notebook": {
     "kernelName": "csharp"
    },
    "vscode": {
     "languageId": "polyglot-notebook"
    }
   },
   "outputs": [],
   "source": [
    "#r \"nuget: Microsoft.SemanticKernel, 1.11.1\"\n",
    "#r \"nuget: System.Numerics.Tensors, 9.0.0-preview.3.24172.9\"\n",
    "#r \"nuget: SkiaSharp, 2.88.8\"\n",
    "\n",
    "#!import Utilities.cs\n",
    "\n",
    "using Microsoft.SemanticKernel;\n",
    "using Microsoft.SemanticKernel.TextToImage;\n",
    "using Microsoft.SemanticKernel.Embeddings;\n",
    "using Microsoft.SemanticKernel.Connectors.OpenAI;\n",
    "using System.Numerics.Tensors;\n",
    "\n",
    "using Kernel = Microsoft.SemanticKernel.Kernel;\n",
    "\n",
    "#pragma warning disable SKEXP0001, SKEXP0002, SKEXP0010, SKEXP0011, SKEXP0012\n",
    "\n",
    "// Load OpenAI credentials from config/settings.json\n",
    "var (useAzureOpenAI, model, azureEndpoint, apiKey, orgId) = Settings.LoadFromFile();\n",
    "\n",
    "// Configure the three AI features: text embedding (using Ada), chat completion, image generation (DALL-E-3)\n",
    "var builder = Kernel.CreateBuilder();\n",
    "\n",
    "if(useAzureOpenAI)\n",
    "{\n",
    "    builder.AddAzureOpenAITextEmbeddingGeneration(\"text-embedding-ada-002\", azureEndpoint, apiKey);\n",
    "    builder.AddAzureOpenAIChatCompletion(model, azureEndpoint, apiKey);\n",
    "    builder.AddAzureOpenAITextToImage(\"dall-e-3\", azureEndpoint, apiKey);\n",
    "}\n",
    "else\n",
    "{\n",
    "    builder.AddOpenAITextEmbeddingGeneration(\"text-embedding-ada-002\", apiKey, orgId);\n",
    "    builder.AddOpenAIChatCompletion(model, apiKey, orgId);\n",
    "    builder.AddOpenAITextToImage(apiKey, orgId);\n",
    "}\n",
    "   \n",
    "var kernel = builder.Build();\n",
    "\n",
    "// Get AI service instance used to generate images\n",
    "var dallE = kernel.GetRequiredService<ITextToImageService>();\n",
    "\n",
    "// Get AI service instance used to extract embedding from a text\n",
    "var textEmbedding = kernel.GetRequiredService<ITextEmbeddingGenerationService>();\n",
    "\n",
    "// Load the plugin directory\n",
    "var guessPluginsDirectoryPath = Path.Combine(System.IO.Directory.GetCurrentDirectory(), \"Plugins\",\"GuessPlugin\");\n",
    "\n",
    "// Load the plugin functons\n",
    "var guessPluginFunctions = kernel.ImportPluginFromPromptDirectory(guessPluginsDirectoryPath);\n",
    "\n",
    "// Setting up the SKContext\n",
    "var arguments = new KernelArguments();\n",
    "arguments.Add(\"input\", \"Belgium\");\n",
    "\n",
    "// Invoke the semantic function\n",
    "var imageResult = await kernel.InvokeAsync(guessPluginFunctions[\"GuessWhat\"], arguments);\n",
    "\n",
    "// Get the image description from the result\n",
    "var imagedescription = imageResult.GetValue<string>();\n",
    "\n",
    "// Uncomment to see the image description\n",
    " Console.WriteLine(\"-----------------------------\");\n",
    " Console.WriteLine(\"### Generating Image Description using the country input ###\");\n",
    " Console.WriteLine(\"-----------------------------\");\n",
    " Console.WriteLine(imagedescription);\n",
    " Console.WriteLine(\"-----------------------------\");\n",
    " Console.WriteLine(\"### Generating Image using the provided description. This might take a few minutes... ###\");\n",
    " Console.WriteLine(\"-----------------------------\");\n",
    "\n",
    "// Use DALL-E 3 to generate an image. OpenAI in this case returns a URL (though you can ask to return a base64 image)\n",
    "var imageUrl = await dallE.GenerateImageAsync(imagedescription.Trim(), 1024, 1024);\n",
    "\n",
    "// Show an image using SkiaSharp library\n",
    "await Utilities.ShowImage(imageUrl, 512, 512);\n",
    "\n",
    "// Uncomment to see the URL of the image\n",
    "Console.WriteLine(imageUrl);"
   ]
  },
  {
   "cell_type": "markdown",
   "metadata": {},
   "source": [
    "### 5. Planners \n",
    "\n",
    "[Semantic Kernel Planners](https://learn.microsoft.com/en-us/semantic-kernel/concepts/planning?pivots=programming-language-csharp) are a core component of the Semantic Kernel that provide AI orchestration. They manage the seamless integration between AI Models and Plugins by devising execution strategies from user requests. Essentially, planners determine which functions to call and in what order to fulfill a user’s request.\n",
    "\n",
    "For example, if a user asks the AI to “toggle all the lights,” the planner will:\n",
    "\n",
    "- Call a function to get the current state of all lights.\n",
    "- Based on the state, call functions to change the state of each light accordingly.\n",
    "\n",
    "This iterative process, where the AI can call a function, check the result, and then decide the next step, is known as function calling.\n",
    "\n",
    "```\n",
    "Comparison of Planners <> Plugins:\n",
    "```\n",
    "**Purpose:**\n",
    "- *Planners:* Focus on orchestrating and managing the execution of multiple functions to achieve a complex task.\n",
    "- *Plugins:* Provide the actual functions that perform specific tasks.\n",
    "\n",
    "**Functionality:**\n",
    "- *Planners:* Determine which functions to call and in what sequence, based on user requests.\n",
    "- *Plugins:* Contain the functions that perform the tasks as directed by the planner.\n",
    "\n",
    "**Integration:**\n",
    "- *Planners:* Work at a higher level, coordinating the use of multiple plugins to fulfill user needs.\n",
    "- *Plugins:* Operate at a lower level, providing the building blocks (functions) that the planner uses.\n",
    "\n",
    "In summary, planners and plugins work together within the Semantic Kernel to provide a flexible and powerful way to handle complex user requests. Planners orchestrate the process, while plugins provide the necessary functionality to execute specific tasks. \n",
    "\n",
    "```\n",
    "What the code is doing:\n",
    "```\n",
    "\n",
    "> The selected code is a C# file named \"tempcode.cs\". Let's go through it step by step.\n",
    "\n",
    "> First, there are some comments that provide information about the purpose of the code. It mentions that it is getting the latest package released on February 14th, 2024 from the NuGet package repository. The package being referenced is \"Microsoft.SemanticKernel\" with version 1.11.1.\n",
    "\n",
    "> Next, there are three lines starting with #r. These lines are known as \"reference directives\" and they are used to reference external assemblies or packages in C# code. In this case, the code is referencing three NuGet packages: \"Microsoft.SemanticKernel\", \"Microsoft.SemanticKernel.Plugins.Core\", and \"Microsoft.SemanticKernel.Planners.Handlebars\". The versions being referenced are 1.11.1, 1.11.1-alpha, and 1.11.1-preview respectively.\n",
    "\n",
    "> After the reference directives, there is a line starting with #!import. This line is likely a custom directive specific to the project or framework being used. It is importing a file named \"Settings.cs\".\n",
    "\n",
    "> The using statements follow, which are used to import namespaces into the current code file. In this case, the code is importing namespaces related to the \"Microsoft.SemanticKernel\" package and its plugins.\n",
    "\n",
    "> Next, a kernel builder object is created using the Kernel.CreateBuilder() method. The kernel builder is responsible for configuring and building the kernel, which is a central component of the \"Microsoft.SemanticKernel\" package.\n",
    "\n",
    "> The code then loads some settings from a file using the Settings.LoadFromFile() method. It retrieves values for variables such as useAzureOpenAI, model, azureEndpoint, apiKey, and orgId. These settings are used to configure the AI backend used by the kernel.\n",
    "\n",
    "> Based on the value of useAzureOpenAI, the code conditionally adds a chat completion plugin to the kernel builder. If useAzureOpenAI is true, it adds an Azure OpenAI chat completion plugin with the parameters \"gpt-4-default\", azureEndpoint, and apiKey. Otherwise, it adds an OpenAI chat completion plugin with the parameters model, apiKey, and orgId.\n",
    "\n",
    "> After that, there are several lines that add plugins to the kernel builder. The builder.Plugins.AddFromType<T>() method is used to add plugins based on their type. In this case, it adds plugins of type TimePlugin and ConversationSummaryPlugin. Additionally, the builder.Plugins.AddFromPromptDirectory() method is used to add plugins from specific directories. It adds plugins from the directories \"plugins/FoodPlugin\" and \"plugins/ShoppingPlugin\".\n",
    "\n",
    "> Overall, this code sets up the configuration for the \"Microsoft.SemanticKernel\" package by adding references, importing namespaces, creating a kernel builder, loading settings, and adding plugins to the builder. It demonstrates how to configure and customize the behavior of the kernel for specific AI tasks."
   ]
  },
  {
   "cell_type": "code",
   "execution_count": null,
   "metadata": {
    "dotnet_interactive": {
     "language": "csharp"
    },
    "polyglot_notebook": {
     "kernelName": "csharp"
    },
    "vscode": {
     "languageId": "polyglot-notebook"
    }
   },
   "outputs": [],
   "source": [
    "\n",
    "// Getting the latest package released on 14th Feb, 2024 - https://www.nuget.org/packages/Microsoft.SemanticKernel/\n",
    "#r \"nuget: Microsoft.SemanticKernel, 1.11.1\"\n",
    "#r \"nuget: Microsoft.SemanticKernel.Plugins.Core, 1.11.1-alpha\"\n",
    "#r \"nuget: Microsoft.SemanticKernel.Planners.Handlebars, 1.11.1-preview\"\n",
    "\n",
    "#!import Settings.cs\n",
    "\n",
    "using Microsoft.SemanticKernel;\n",
    "using Microsoft.SemanticKernel.Plugins.Core;\n",
    "using Microsoft.SemanticKernel.Planning.Handlebars;\n",
    "using Kernel = Microsoft.SemanticKernel.Kernel;\n",
    "\n",
    "//Create Kernel builder\n",
    "var builder = Kernel.CreateBuilder();\n",
    "\n",
    "// Configure AI backend used by the kernel\n",
    "var (useAzureOpenAI, model, azureEndpoint, apiKey, orgId) = Settings.LoadFromFile();\n",
    "if (useAzureOpenAI)\n",
    "    builder.AddAzureOpenAIChatCompletion(\"gpt-4-default\", azureEndpoint, apiKey);\n",
    "else\n",
    "    builder.AddOpenAIChatCompletion(model, apiKey, orgId);\n",
    "\n",
    "\n",
    "#pragma warning disable SKEXP0050\n",
    "builder.Plugins.AddFromType<TimePlugin>();\n",
    "builder.Plugins.AddFromType<ConversationSummaryPlugin>();\n",
    "builder.Plugins.AddFromPromptDirectory(\"plugins/FoodPlugin\");\n",
    "builder.Plugins.AddFromPromptDirectory(\"plugins/ShoppingPlugin\");\n",
    "\n"
   ]
  },
  {
   "cell_type": "markdown",
   "metadata": {},
   "source": [
    "### 5.1 Generating a Food Recipe "
   ]
  },
  {
   "cell_type": "code",
   "execution_count": null,
   "metadata": {
    "dotnet_interactive": {
     "language": "csharp"
    },
    "polyglot_notebook": {
     "kernelName": "csharp"
    },
    "vscode": {
     "languageId": "polyglot-notebook"
    }
   },
   "outputs": [],
   "source": [
    "var kernel = builder.Build();\n",
    "\n",
    "string foodRecipe = \"Belgian\";\n",
    "var foodRecipeResult = await kernel.InvokeAsync(\"FoodPlugin\",\"GetRecipe\", new KernelArguments() { [\"input\"] = foodRecipe } );\n",
    "Console.WriteLine(foodRecipeResult.GetValue<string>());"
   ]
  },
  {
   "cell_type": "markdown",
   "metadata": {},
   "source": [
    "### 5.2 Compose a shopping list, based on the recipe"
   ]
  },
  {
   "cell_type": "code",
   "execution_count": null,
   "metadata": {
    "dotnet_interactive": {
     "language": "csharp"
    },
    "polyglot_notebook": {
     "kernelName": "csharp"
    },
    "vscode": {
     "languageId": "polyglot-notebook"
    }
   },
   "outputs": [],
   "source": [
    "var groceryListResult = await kernel.InvokeAsync(\"ShoppingPlugin\",\"GetGroceryList\", new KernelArguments() { [\"input\"] = foodRecipe } );\n",
    "Console.WriteLine(groceryListResult.GetValue<string>());"
   ]
  },
  {
   "cell_type": "markdown",
   "metadata": {},
   "source": [
    "### 5.3 Planners & Plugins combined"
   ]
  },
  {
   "cell_type": "markdown",
   "metadata": {},
   "source": [
    "In this example, we bring the power of previously described Plugins and Planners together. Using an ask, reflecting a (somewhat complex, multiple component-based) prompt provided by the user, we rely on the planner to come up with a plan. We use the plan contents as a guideline to:\n",
    "- show you the different iterations from understanding the prompt, \n",
    "- analyzing the context through Natural Language Processing, \n",
    "- identifying the different Plugins to use to get to the result, \n",
    "- and eventually showing the actual answer to the ask."
   ]
  },
  {
   "cell_type": "code",
   "execution_count": null,
   "metadata": {
    "dotnet_interactive": {
     "language": "csharp"
    },
    "polyglot_notebook": {
     "kernelName": "csharp"
    },
    "vscode": {
     "languageId": "polyglot-notebook"
    }
   },
   "outputs": [],
   "source": [
    "#pragma warning disable SKEXP0060, SKEXP0061\n",
    "var kernel = builder.Build();\n",
    "var executionSettings = new OpenAIPromptExecutionSettings()\n",
    "{\n",
    "    MaxTokens = 500,\n",
    "    Temperature = 0.5\n",
    "};\n",
    "\n",
    "HandlebarsPlanner planner = new HandlebarsPlanner(new HandlebarsPlannerOptions() { ExecutionSettings = executionSettings, AllowLoops = true } );\n",
    "\n",
    "#pragma warning disable SKEXP0060\n",
    "\n",
    "var ask = \"My friend is visiting from Belgium. He wants to have a typical Belgian dish for dinner. Please suggest us a Belgian dish for dinner as well as the grocery list for the same. Show the output in a clear format with the distinguished sections for the dish and the grocery list. Also summarise everything in one line after the description.\";\n",
    "\n",
    "var plan = await planner.CreatePlanAsync(kernel, ask);\n",
    "\n",
    "Console.WriteLine(\"Original plan:\\n\");\n",
    "Console.WriteLine(plan);"
   ]
  },
  {
   "cell_type": "code",
   "execution_count": null,
   "metadata": {
    "dotnet_interactive": {
     "language": "csharp"
    },
    "polyglot_notebook": {
     "kernelName": "csharp"
    },
    "vscode": {
     "languageId": "polyglot-notebook"
    }
   },
   "outputs": [],
   "source": [
    "#pragma warning disable SKEXP0060\n",
    "\n",
    "var planResult = await plan.InvokeAsync(kernel, new KernelArguments());\n",
    "\n",
    "Console.WriteLine(\"Original Plan results:\\n\");\n",
    "Console.WriteLine(planResult.ToString(), 1000);"
   ]
  },
  {
   "cell_type": "markdown",
   "metadata": {},
   "source": [
    "### 6. Personas\n",
    "\n",
    "Often called a \"meta prompt\" or \"instruction\", the [persona](https://learn.microsoft.com/en-us/semantic-kernel/concepts/personas?pivots=programming-language-csharp#using-system-messages-to-set-personas) is a prompt that is used to influence how the agent responds. This allows you to influence how your agents plan tasks, generate responses, and interact with users. For example, you can use the persona to explicitly tell the agent to ask for help if it doesn't know what to do, or to be more verbose when it is explaining something.\n",
    "\n",
    "In Semantic Kernel, we often describe these prompts as \"personas\" because they're very similar to persona in user experience design. Just like how designers and UX researchers create personas to represent different types of users and the jobs-to-be-done they have, you can create personas to represent different types of agents and the tasks they are responsible for.\n",
    "\n",
    "By doing so, you can create agents that are more consistent, more reliable, and more predictable. You can also use personas to 'ground' your data, by describing its capabilities, but also what it is not allowed to do. Having a persona as travel agent, should not be able to describe how to fix your car..."
   ]
  },
  {
   "cell_type": "code",
   "execution_count": null,
   "metadata": {
    "dotnet_interactive": {
     "language": "csharp"
    },
    "polyglot_notebook": {
     "kernelName": "csharp"
    },
    "vscode": {
     "languageId": "polyglot-notebook"
    }
   },
   "outputs": [],
   "source": [
    "// Getting the latest package released on 14th Feb, 2024 - https://www.nuget.org/packages/Microsoft.SemanticKernel/\n",
    "#r \"nuget: Microsoft.SemanticKernel, 1.11.1\"\n",
    "#r \"nuget: Microsoft.SemanticKernel.Plugins.Core, 1.11.1-alpha\"\n",
    "#r \"nuget: Microsoft.SemanticKernel.Planners.Handlebars, 1.11.1-preview\"\n",
    "\n",
    "#!import Settings.cs\n",
    "\n",
    "using System;\n",
    "using Microsoft.SemanticKernel;\n",
    "using Microsoft.SemanticKernel.Plugins;\n",
    "\n",
    "// Build the kernel\n",
    "Kernel kernel = builder.Build();\n",
    "\n",
    "string language = \"French\";\n",
    "string language2 = \"Dutch\";\n",
    "string history = @\"I'm traveling with my kids and one of them has a peanut allergy.\";\n",
    "\n",
    "// Assign a persona to the prompt\n",
    "string prompt = @$\"\n",
    "    You are a travel assistant. You are helpful, creative, and very friendly. \n",
    "    Consider the traveler's background:\n",
    "    ${history}\n",
    "\n",
    "    Create a list of 10 helpful phrases and words in ${language} and ${language2} a traveler would find useful.\n",
    "\n",
    "    Group phrases by category. Include common direction words. \n",
    "    Display the phrases in the following format: \n",
    "    Hello - Ciao [chow]\n",
    "\n",
    "    Begin with: 'Here are some phrases in ${language} you may find helpful:'\n",
    "    Followed by: 'And the same phrases in ${language2}:' \n",
    "    and end with: 'I hope this helps you on your trip!'\";\n",
    "\n",
    "var result = await kernel.InvokePromptAsync(prompt);\n",
    "Console.WriteLine(result);\n",
    "    \n",
    "\n"
   ]
  },
  {
   "cell_type": "code",
   "execution_count": null,
   "metadata": {
    "dotnet_interactive": {
     "language": "csharp"
    },
    "polyglot_notebook": {
     "kernelName": "csharp"
    },
    "vscode": {
     "languageId": "polyglot-notebook"
    }
   },
   "outputs": [],
   "source": []
  }
 ],
 "metadata": {
  "kernelspec": {
   "display_name": ".NET (C#)",
   "language": "C#",
   "name": ".net-csharp"
  },
  "language_info": {
   "name": "python",
   "version": "3.9.13"
  },
  "orig_nbformat": 4,
  "polyglot_notebook": {
   "kernelInfo": {
    "defaultKernelName": "csharp",
    "items": [
     {
      "aliases": [],
      "name": "csharp"
     }
    ]
   }
  }
 },
 "nbformat": 4,
 "nbformat_minor": 2
}
